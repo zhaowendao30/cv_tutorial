{
 "cells": [
  {
   "cell_type": "code",
   "execution_count": 1,
   "metadata": {},
   "outputs": [],
   "source": [
    "import imutils\n",
    "import cv2"
   ]
  },
  {
   "cell_type": "code",
   "execution_count": 2,
   "metadata": {},
   "outputs": [
    {
     "name": "stdout",
     "output_type": "stream",
     "text": [
      "width=600, height=322, depth=3\n"
     ]
    }
   ],
   "source": [
    "# 读取图片\n",
    "image = cv2.imread('jp.png')\n",
    "# h：高，w：宽，d：通道\n",
    "# 小知识：RGB三个(颜色)通道分别代表，red, green,blue\n",
    "(h, w, d) = image.shape\n",
    "print('width={}, height={}, depth={}'.format(w, h, d))"
   ]
  },
  {
   "cell_type": "code",
   "execution_count": 3,
   "metadata": {},
   "outputs": [],
   "source": [
    "# 显示图像,第一个字符串为图片的名字，第二为所要显示的图片\n",
    "cv2.imshow('Image', image)\n",
    "# cv2.waitKey(0)"
   ]
  },
  {
   "cell_type": "code",
   "execution_count": 4,
   "metadata": {},
   "outputs": [
    {
     "name": "stdout",
     "output_type": "stream",
     "text": [
      "R=41, G=49, B=37\n"
     ]
    }
   ],
   "source": [
    "# 获取RGB元素\n",
    "# opencv使用BGR储存图片，而不是RGB\n",
    "(B, G, R) = image[100, 50]\n",
    "print(\"R={}, G={}, B={}\".format(R, G, B))"
   ]
  },
  {
   "cell_type": "code",
   "execution_count": 5,
   "metadata": {},
   "outputs": [],
   "source": [
    "# 裁剪图像--裁剪ROI的头像\n",
    "# image[startY: endY, startX: endX]\n",
    "roi = image[60:160, 320:420]\n",
    "cv2.imshow(\"ROI\", roi)\n",
    "# cv2.waitKey(0)"
   ]
  },
  {
   "cell_type": "code",
   "execution_count": 6,
   "metadata": {},
   "outputs": [],
   "source": [
    "# 修改图片尺寸\n",
    "resized = cv2.resize(image, (200, 200))\n",
    "cv2.imshow('Fixed resizing', resized)\n",
    "# cv2.waitKey(0)"
   ]
  },
  {
   "cell_type": "code",
   "execution_count": 7,
   "metadata": {},
   "outputs": [],
   "source": [
    "# 等比缩小图片尺寸，使他不显示压缩扭曲\n",
    "r = 300.0 / w\n",
    "dim = (300, int(h * r))\n",
    "resized = cv2.resize(image, dim)\n",
    "cv2.imshow(\"Aspect Ratio Resize\", resized)\n",
    "# cv2.waitKey(0)"
   ]
  },
  {
   "cell_type": "code",
   "execution_count": 8,
   "metadata": {},
   "outputs": [],
   "source": [
    "# 作者将等比缩小图像size的工作封装到imutils函数中\n",
    "resized = imutils.resize(image, width = 300)\n",
    "cv2.imshow('Imutils Resize', resized)\n",
    "# cv2.waitKey(0)"
   ]
  },
  {
   "cell_type": "code",
   "execution_count": 9,
   "metadata": {},
   "outputs": [],
   "source": [
    "# 旋转图像--顺时针旋转45度--正数为逆时针\n",
    "center = (w // 2, h // 2)\n",
    "M = cv2.getRotationMatrix2D(center, -45, 1.0)\n",
    "rotated = cv2.warpAffine(image, M, (w, h))\n",
    "cv2.imshow('OpenCV Rotation', rotated)\n",
    "# cv2.waitKey(0)"
   ]
  },
  {
   "cell_type": "code",
   "execution_count": 11,
   "metadata": {},
   "outputs": [],
   "source": [
    "# 旋转--作者封装后的实现\n",
    "rotated = imutils.rotate(image, -45)\n",
    "cv2.imshow('Imutils Rotation', rotated)\n",
    "# cv2.waitKey(0)"
   ]
  },
  {
   "cell_type": "code",
   "execution_count": 14,
   "metadata": {},
   "outputs": [],
   "source": [
    "# 直接旋转图像后会出界，作者实现了旋转图像后完整显示\n",
    "rotated = imutils.rotate_bound(image, 45)\n",
    "cv2.imshow('Imutils Bound Rotation', rotated)\n",
    "# cv2.waitKey(0)"
   ]
  },
  {
   "cell_type": "code",
   "execution_count": 15,
   "metadata": {},
   "outputs": [],
   "source": [
    "# 图像预处理，降噪--图像平滑--图像模糊化处理\n",
    "# -->使得我们的算法关注于图像的内容，而不是噪声\n",
    "# 使用高斯模糊函数\n",
    "blurred = cv2.GaussianBlur(image, (11, 11), 0)\n",
    "cv2.imshow('Blurred', blurred)\n",
    "# cv2.waitKey(0)"
   ]
  },
  {
   "cell_type": "code",
   "execution_count": 17,
   "metadata": {},
   "outputs": [],
   "source": [
    "# 在图上做图--矩形\n",
    "# 参数含义：图像-->左上范围-->右下范围-->定义颜色(B,G,R)-->不大清楚\n",
    "output = image.copy()\n",
    "cv2.rectangle(output, (320, 60), (420, 160), (0, 0, 255), 2)\n",
    "cv2.imshow('Rectangle', output)\n",
    "# cv2.waitKey(0)"
   ]
  },
  {
   "cell_type": "code",
   "execution_count": 20,
   "metadata": {},
   "outputs": [],
   "source": [
    "# 在图上作图--圆\n",
    "# 圆所要定义的是圆心和半径\n",
    "output = image.copy()\n",
    "cv2.circle(output, (300, 150), 20, (0, 0, 255), -1)\n",
    "cv2.imshow('Circle', output)\n",
    "# cv2.waitKey(0)"
   ]
  },
  {
   "cell_type": "code",
   "execution_count": 21,
   "metadata": {},
   "outputs": [],
   "source": [
    "# 在图像上写字\n",
    "# 参数--图像-->文本-->文本起始点-->字体-->字体大小-->颜色-->不清楚\n",
    "output = image.copy()\n",
    "cv2.putText(output, 'OpenCV + Jurassic Park!!!', (10, 25),\n",
    "           cv2.FONT_HERSHEY_SIMPLEX, 0.7, (0, 255, 0), 2)\n",
    "cv2.imshow('Text', output)\n",
    "# cv2.waitKey(0)"
   ]
  },
  {
   "cell_type": "code",
   "execution_count": null,
   "metadata": {},
   "outputs": [],
   "source": []
  }
 ],
 "metadata": {
  "kernelspec": {
   "display_name": "Python 3",
   "language": "python",
   "name": "python3"
  },
  "language_info": {
   "codemirror_mode": {
    "name": "ipython",
    "version": 3
   },
   "file_extension": ".py",
   "mimetype": "text/x-python",
   "name": "python",
   "nbconvert_exporter": "python",
   "pygments_lexer": "ipython3",
   "version": "3.7.3"
  }
 },
 "nbformat": 4,
 "nbformat_minor": 2
}
