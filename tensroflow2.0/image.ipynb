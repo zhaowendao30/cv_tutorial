{
 "cells": [
  {
   "cell_type": "code",
   "execution_count": 1,
   "metadata": {},
   "outputs": [
    {
     "name": "stdout",
     "output_type": "stream",
     "text": [
      "2.0.0\n",
      "sys.version_info(major=3, minor=7, micro=3, releaselevel='final', serial=0)\n",
      "matplotlib 3.1.1\n",
      "numpy 1.17.3\n",
      "pandas 0.25.3\n",
      "sklearn 0.21.3\n",
      "tensorflow 2.0.0\n",
      "tensorflow_core.keras 2.2.4-tf\n"
     ]
    }
   ],
   "source": [
    "import matplotlib as mpl\n",
    "import matplotlib.pyplot as plt\n",
    "%matplotlib inline\n",
    "import numpy as np\n",
    "import sklearn\n",
    "import pandas as pd\n",
    "import os\n",
    "import sys\n",
    "import time\n",
    "import tensorflow as tf\n",
    "import PIL\n",
    "from PIL import Image\n",
    "from tensorflow import keras\n",
    "\n",
    "print(tf.__version__)\n",
    "print(sys.version_info)\n",
    "for module in mpl, np, pd, sklearn, tf, keras:\n",
    "    print(module.__name__, module.__version__)\n"
   ]
  },
  {
   "cell_type": "code",
   "execution_count": 2,
   "metadata": {},
   "outputs": [],
   "source": [
    "a = [x for x in os.listdir('D:\\datasets\\input_face')]"
   ]
  },
  {
   "cell_type": "code",
   "execution_count": 41,
   "metadata": {},
   "outputs": [
    {
     "name": "stdout",
     "output_type": "stream",
     "text": [
      "<PIL.BmpImagePlugin.BmpImageFile image mode=RGB size=640x480 at 0x1F9C05D92E8>\n"
     ]
    }
   ],
   "source": [
    "input_path = 'D:/datasets/input_face'\n",
    "output_path = 'D:/datasets/Asia_face'\n",
    "image_input = [x for x in os.listdir(input_path)]\n",
    "\n",
    "def cropimage(file):\n",
    "    BOX_LEFT, BOX_UP, BOX_RIGHT, BOX_DOWN = 160, 120, 480, 360\n",
    "\n",
    "    for each_image in os.listdir(input_path + '/' + file):\n",
    "    # 每个图像全路径\n",
    "        image_input_fullname = input_path + '/' + file + '/' + each_image\n",
    "    # PIL库打开每一张图\n",
    "        img = Image.open(image_input_fullname)\n",
    "\n",
    "    # 从此图像返回一个矩形区域。 盒子是一个4元组定义左，上，右和下像素坐标。\n",
    "        box = (BOX_LEFT, BOX_UP, BOX_RIGHT, BOX_DOWN)\n",
    "    # 进行ROI裁剪\n",
    "        roi_area = img.crop(box)\n",
    "    # 裁剪后每个图像全路径\n",
    "        image_output_fullname = output_path + '/' + file + '/' + each_image\n",
    "    # 保存处理后的图像\n",
    "        roi_area.save(image_output_fullname)\n",
    "\n",
    "image = input_path + '/' + '000' + '/' + '000_0.bmp'\n",
    "img = Image.open(image)\n",
    "print(img)"
   ]
  },
  {
   "cell_type": "code",
   "execution_count": 42,
   "metadata": {},
   "outputs": [],
   "source": [
    "for file in image_input:\n",
    "    cropimage(file)"
   ]
  },
  {
   "cell_type": "code",
   "execution_count": null,
   "metadata": {},
   "outputs": [],
   "source": []
  }
 ],
 "metadata": {
  "kernelspec": {
   "display_name": "Python 3",
   "language": "python",
   "name": "python3"
  },
  "language_info": {
   "codemirror_mode": {
    "name": "ipython",
    "version": 3
   },
   "file_extension": ".py",
   "mimetype": "text/x-python",
   "name": "python",
   "nbconvert_exporter": "python",
   "pygments_lexer": "ipython3",
   "version": "3.7.3"
  }
 },
 "nbformat": 4,
 "nbformat_minor": 2
}
