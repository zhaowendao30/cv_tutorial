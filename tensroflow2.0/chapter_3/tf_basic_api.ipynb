{
 "cells": [
  {
   "cell_type": "code",
   "execution_count": 1,
   "metadata": {},
   "outputs": [],
   "source": [
    "import matplotlib as mpl\n",
    "import matplotlib.pyplot as plt\n",
    "%matplotlib inline\n",
    "import numpy as np\n",
    "import sklearn\n",
    "import pandas as pd\n",
    "import os\n",
    "import sys\n",
    "import time\n",
    "import tensorflow as tf\n",
    "\n",
    "from tensorflow import keras\n",
    "\n",
    "print(tf.__version__)\n",
    "print(sys.version_info)\n",
    "for module in mpl, np, pd, sklearn, tf, keras:\n",
    "    print(module.__name__, module.__version__)"
   ]
  },
  {
   "cell_type": "code",
   "execution_count": 2,
   "metadata": {},
   "outputs": [],
   "source": [
    "t = tf.constant([[1., 2., 3.], [4., 5., 6.]])\n",
    "\n",
    "# index\n",
    "print(t)\n",
    "print(t[:, 1:]) # 打印第二列之后的值\n",
    "print(t[..., 1]) # 打印第二列的值"
   ]
  },
  {
   "cell_type": "code",
   "execution_count": 3,
   "metadata": {},
   "outputs": [],
   "source": [
    "# ops\n",
    "print(t+10) # 矩阵中每一个元素+10\n",
    "print(tf.square(t)) # 对矩阵中每个元素进行平方运算\n",
    "print(t @ tf.transpose(t)) # 矩阵乘以他的转置"
   ]
  },
  {
   "cell_type": "code",
   "execution_count": 4,
   "metadata": {},
   "outputs": [],
   "source": [
    "# numpy conversion  numpy和tensorflow的转换\n",
    "print(t.numpy()) # 将tensor转为numpy\n",
    "print(np.square(t))\n",
    "# 将numpy的对象转为tensorflow的tensor\n",
    "np_t = np.array([[1., 2., 3.], [4., 5., 6.]])\n",
    "print(tf.constant(np_t))"
   ]
  },
  {
   "cell_type": "code",
   "execution_count": 5,
   "metadata": {},
   "outputs": [],
   "source": [
    "# 0维为一个数，在tenssorflow中称为Scalars\n",
    "t = tf.constant(2.718)\n",
    "print(t.numpy())\n",
    "print(t.shape)"
   ]
  },
  {
   "cell_type": "code",
   "execution_count": 6,
   "metadata": {},
   "outputs": [],
   "source": [
    "# strings\n",
    "t = tf.constant(\"cafe\")\n",
    "print(t)\n",
    "print(tf.strings.length(t))\n",
    "# 获得UTF8的长度\n",
    "print(tf.strings.length(t, unit=\"UTF8_CHAR\"))\n",
    "# 通过unicode_decode方法将unicode转换为UTF8\n",
    "print(tf.strings.unicode_decode(t, \"UTF8\"))"
   ]
  },
  {
   "cell_type": "code",
   "execution_count": 7,
   "metadata": {},
   "outputs": [],
   "source": [
    "# string array\n",
    "t = tf.constant([\"cafe\", \"coffee\", \"咖啡\"])\n",
    "print(tf.strings.length(t, unit=\"UTF8_CHAR\"))\n",
    "r = tf.strings.unicode_decode(t, \"UTF8\")\n",
    "print(r)\n",
    "# raggedtensor：不完整的数组"
   ]
  },
  {
   "cell_type": "code",
   "execution_count": 8,
   "metadata": {},
   "outputs": [],
   "source": [
    "# ragged tensor\n",
    "r = tf.ragged.constant([[11, 12], [21, 22, 23], [], [41]])\n",
    "# index op\n",
    "print(r)\n",
    "print(r[1])\n",
    "print(r[1:2])"
   ]
  },
  {
   "cell_type": "code",
   "execution_count": 9,
   "metadata": {},
   "outputs": [],
   "source": [
    "# ops on ragged tensor\n",
    "r2 = tf.ragged.constant([[51, 52], [], [71]])\n",
    "# axis代表拼接的维度，0表示按行拼接，1代表按列的方式拼接(注：按列的方式拼接需要拼接对象具有相同的行数\n",
    "print(tf.concat([r, r2], axis = 0))"
   ]
  },
  {
   "cell_type": "code",
   "execution_count": 10,
   "metadata": {},
   "outputs": [],
   "source": [
    "r3 = tf.ragged.constant([[13, 14], [15], [], [42, 43]])\n",
    "print(tf.concat([r, r3], axis = 1))"
   ]
  },
  {
   "cell_type": "code",
   "execution_count": 11,
   "metadata": {},
   "outputs": [],
   "source": [
    "# raggedtensor转换为普通的tensor，空的位置用0填充--raggedtensor中0值都在正常值的后面\n",
    "print(r.to_tensor())"
   ]
  },
  {
   "cell_type": "code",
   "execution_count": 12,
   "metadata": {},
   "outputs": [],
   "source": [
    "# sparse tensor--若一个矩阵中大部分都是0，而只有少部分是1的话，我们把是1的位置上的坐标和对应的值记录下来\n",
    "# indices:不为0元素的坐标，应该为排好序的数组，不排序to_dense操作会报错\n",
    "# values:不为0元素的值\n",
    "# dense_shape: 密集矩阵的维度\n",
    "s = tf.SparseTensor(indices = [[0, 1], [1, 0], [2, 3]],\n",
    "                    values = [1., 2., 3.],\n",
    "                    dense_shape = [3, 4])\n",
    "print(s)\n",
    "print(tf.sparse.to_dense(s))"
   ]
  },
  {
   "cell_type": "code",
   "execution_count": 13,
   "metadata": {},
   "outputs": [],
   "source": [
    "# ops(操作) on sparse tensors \n",
    "\n",
    "s2 = s * 2.0\n",
    "print(s2)\n",
    "# 不支持加法运算\n",
    "try:\n",
    "    s3 = s + 1\n",
    "except TypeError as ex:\n",
    "    print(ex)\n",
    "\n",
    "s4 = tf.constant([[10., 20.],\n",
    "                  [30., 40.],\n",
    "                  [50., 60.],\n",
    "                  [70., 80.]])\n",
    "print(tf.sparse.sparse_dense_matmul(s, s4))"
   ]
  },
  {
   "cell_type": "code",
   "execution_count": 14,
   "metadata": {},
   "outputs": [],
   "source": [
    "# sparse tensor\n",
    "s5 = tf.SparseTensor(indices = [[0, 2], [0, 1], [2, 3]],\n",
    "                    values = [1., 2., 3.],\n",
    "                    dense_shape = [3, 4])\n",
    "print(s5)\n",
    "s6 = tf.sparse.reorder(s5) # 对s5排序赋值给s6\n",
    "print(tf.sparse.to_dense(s6))"
   ]
  },
  {
   "cell_type": "code",
   "execution_count": 15,
   "metadata": {},
   "outputs": [],
   "source": [
    "# Variables\n",
    "v = tf.Variable([[1., 2., 3.], [4., 5., 6.]])\n",
    "print(v)\n",
    "print(v.value()) # 将其转换为tensor\n",
    "print(v.numpy()) # 直接打印值"
   ]
  },
  {
   "cell_type": "code",
   "execution_count": 16,
   "metadata": {},
   "outputs": [],
   "source": [
    "# assign value\n",
    "# 调用assign函数对变量重新赋值， 不能用'='\n",
    "v.assign(2*v)\n",
    "print(v.numpy())\n",
    "v[0, 1].assign(42)\n",
    "print(v.numpy())\n",
    "v[1].assign([7., 8., 9.])\n",
    "print(v.numpy())"
   ]
  },
  {
   "cell_type": "code",
   "execution_count": 17,
   "metadata": {},
   "outputs": [],
   "source": [
    "try:\n",
    "    v[1] = [7., 8., 9.]\n",
    "except TypeError as ex:\n",
    "    print(ex)"
   ]
  },
  {
   "cell_type": "code",
   "execution_count": null,
   "metadata": {},
   "outputs": [],
   "source": []
  }
 ],
 "metadata": {
  "kernelspec": {
   "display_name": "Python 3",
   "language": "python",
   "name": "python3"
  },
  "language_info": {
   "codemirror_mode": {
    "name": "ipython",
    "version": 3
   },
   "file_extension": ".py",
   "mimetype": "text/x-python",
   "name": "python",
   "nbconvert_exporter": "python",
   "pygments_lexer": "ipython3",
   "version": "3.7.3"
  }
 },
 "nbformat": 4,
 "nbformat_minor": 2
}