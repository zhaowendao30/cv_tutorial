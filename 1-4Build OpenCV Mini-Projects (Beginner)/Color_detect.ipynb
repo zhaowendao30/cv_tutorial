{
 "cells": [
  {
   "cell_type": "code",
   "execution_count": 1,
   "metadata": {},
   "outputs": [],
   "source": [
    "import numpy as np\n",
    "import cv2"
   ]
  },
  {
   "cell_type": "code",
   "execution_count": null,
   "metadata": {},
   "outputs": [],
   "source": [
    "image = cv2.imread('pokemon_games.png')\n",
    "\n",
    "boundaries = [\n",
    "    ([17, 15, 100], [50, 56, 200]),\n",
    "    ([86, 31, 4], [220, 88, 50]),\n",
    "    ([25, 146, 190], [62, 174, 250]),\n",
    "    ([103, 86, 65], [145, 133, 128])\n",
    "]\n",
    "\n",
    "for (lower, upper) in boundaries:\n",
    "    lower = np.array(lower, dtype = 'uint8')\n",
    "    upper = np.array(upper, dtype = 'uint8')\n",
    "    \n",
    "    mask = cv2.inRange(image, lower, upper)\n",
    "    output = cv2.bitwise_and(image, image, mask = mask)\n",
    "    \n",
    "    # hstack：按水平方向堆叠数组\n",
    "    # vstack：按竖直方向堆叠数组\n",
    "    cv2.imshow('images', np.hstack([image, output]))\n",
    "    # cv2.waitKey(0)"
   ]
  },
  {
   "cell_type": "code",
   "execution_count": null,
   "metadata": {},
   "outputs": [],
   "source": [
    "cv2.imshow('images1', np.hstack([image, output]))"
   ]
  },
  {
   "cell_type": "code",
   "execution_count": null,
   "metadata": {},
   "outputs": [],
   "source": []
  }
 ],
 "metadata": {
  "kernelspec": {
   "display_name": "Python 3",
   "language": "python",
   "name": "python3"
  },
  "language_info": {
   "codemirror_mode": {
    "name": "ipython",
    "version": 3
   },
   "file_extension": ".py",
   "mimetype": "text/x-python",
   "name": "python",
   "nbconvert_exporter": "python",
   "pygments_lexer": "ipython3",
   "version": "3.7.3"
  }
 },
 "nbformat": 4,
 "nbformat_minor": 2
}
