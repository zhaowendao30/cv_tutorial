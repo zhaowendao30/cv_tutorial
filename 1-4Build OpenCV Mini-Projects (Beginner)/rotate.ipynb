{
 "cells": [
  {
   "cell_type": "code",
   "execution_count": 1,
   "metadata": {},
   "outputs": [],
   "source": [
    "import numpy as np\n",
    "import argparse\n",
    "import imutils\n",
    "import cv2"
   ]
  },
  {
   "cell_type": "code",
   "execution_count": 5,
   "metadata": {},
   "outputs": [],
   "source": [
    "image = cv2.imread('saratoga.jpg')\n",
    "# 旋转图像\n",
    "for angle in np.arange(0, 360, 15):\n",
    "    rotated = imutils.rotate(image, angle)\n",
    "    cv2.imshow('Rotated (Problematic)', rotated)\n",
    "    # cv2.waitKey(0)"
   ]
  },
  {
   "cell_type": "code",
   "execution_count": null,
   "metadata": {},
   "outputs": [],
   "source": [
    "# 完整的旋转图像\n",
    "for angle in np.arange(0, 360, 15):\n",
    "    rotated = imutils.rotate(image, angle)\n",
    "    cv2.imshow('Rotated (Correct)', rotated)\n",
    "    cv2.waitKey(0)"
   ]
  },
  {
   "cell_type": "code",
   "execution_count": 8,
   "metadata": {},
   "outputs": [],
   "source": [
    "# 读取图像\n",
    "image = cv2.imread('pill_01.png')\n",
    "# 灰度化处理\n",
    "gray = cv2.cvtColor(image, cv2.COLOR_BGR2GRAY)\n",
    "# 高斯模糊\n",
    "gray = cv2.GaussianBlur(gray, (3, 3), 0)\n",
    "# Canny算法边缘检测\n",
    "edged = cv2.Canny(gray, 20, 100)\n",
    "cv2.imshow('edged1', edged)\n",
    "cv2.imshow('edged2', edged)"
   ]
  },
  {
   "cell_type": "code",
   "execution_count": 3,
   "metadata": {},
   "outputs": [],
   "source": [
    "# 寻找轮廓\n",
    "cnts = cv2.findContours(edged.copy(), cv2.RETR_EXTERNAL,\n",
    "                       cv2.CHAIN_APPROX_SIMPLE)\n",
    "\n",
    "cnts = imutils.grab_contours(cnts)"
   ]
  },
  {
   "cell_type": "code",
   "execution_count": 9,
   "metadata": {},
   "outputs": [],
   "source": [
    "if len(cnts) > 0:\n",
    "    c = max(cnts, key = cv2.contourArea)\n",
    "    mask = np.zeros(gray.shape, dtype = 'uint8')\n",
    "    cv2.drawContours(mask, [c], -1, 255, -1)\n",
    "    (x, y, w, h) = cv2.boundingRect(c)\n",
    "    imageROI = image[y: y + h, x: x+ w]\n",
    "    maskROI = mask[y: y + h, x : x + w]\n",
    "    # 还原检测到物体的本来颜色\n",
    "    imageROI = cv2.bitwise_and(imageROI, imageROI,\n",
    "                              mask = maskROI)\n",
    "    cv2.imshow('bitwise', imageROI)\n",
    "    \n",
    "    for angle in np.arange(0, 360, 15):\n",
    "        rotated = imutils.rotate(imageROI, angle)\n",
    "        cv2.imshow('Rotated (Problematic)', rotated)\n",
    "        # cv2.waitKey(0)\n",
    "    \n",
    "    for angle in np.arange(0, 360, 15):\n",
    "        rotated = imutils.rotate_bound(imageROI, angle)\n",
    "        cv2.imshow('Rotated (Correct)', rotated)\n",
    "        # cv2.waitKey(0)"
   ]
  },
  {
   "cell_type": "code",
   "execution_count": 12,
   "metadata": {},
   "outputs": [],
   "source": [
    "cv2.imshow('bitwise12', maskROI)"
   ]
  },
  {
   "cell_type": "code",
   "execution_count": null,
   "metadata": {},
   "outputs": [],
   "source": []
  }
 ],
 "metadata": {
  "kernelspec": {
   "display_name": "Python 3",
   "language": "python",
   "name": "python3"
  },
  "language_info": {
   "codemirror_mode": {
    "name": "ipython",
    "version": 3
   },
   "file_extension": ".py",
   "mimetype": "text/x-python",
   "name": "python",
   "nbconvert_exporter": "python",
   "pygments_lexer": "ipython3",
   "version": "3.7.3"
  }
 },
 "nbformat": 4,
 "nbformat_minor": 2
}
